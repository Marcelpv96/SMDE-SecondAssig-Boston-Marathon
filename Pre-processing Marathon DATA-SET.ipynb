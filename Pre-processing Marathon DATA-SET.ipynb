{
 "cells": [
  {
   "cell_type": "markdown",
   "metadata": {},
   "source": [
    "# Pre-processing boston marathon Data-set\n",
    "\n",
    "The aim of this is to process the three results available of boston marathon here:\n",
    "\n",
    "    - https://www.kaggle.com/rojour/boston-results\n",
    "    \n",
    "Finally conclude generating a new data-set with this couple of factors (features):\n",
    "- How many years he run the marathon\n",
    "- Warm\n",
    "- Tired level\n",
    "- Climate\n",
    "- Desnivell\n",
    "- Gender\n",
    "- Edat\n",
    "- Altura de la ciutat d'origen"
   ]
  },
  {
   "cell_type": "code",
   "execution_count": 48,
   "metadata": {},
   "outputs": [],
   "source": [
    "import pandas as pd\n",
    "import numpy as np"
   ]
  },
  {
   "cell_type": "markdown",
   "metadata": {},
   "source": [
    "- First of all, add a label of which year is this results in the aim to diference the diferent runners."
   ]
  },
  {
   "cell_type": "code",
   "execution_count": 31,
   "metadata": {},
   "outputs": [],
   "source": [
    "results_2015 = pd.read_csv(\"data_sets/marathon_results_2015.csv\")\n",
    "results_2016 = pd.read_csv(\"data_sets/marathon_results_2016.csv\")\n",
    "results_2017 = pd.read_csv(\"data_sets/marathon_results_2017.csv\")\n",
    "results_2015['year'] = 2015\n",
    "results_2016['year'] = 2016\n",
    "results_2017['year'] = 2017"
   ]
  },
  {
   "cell_type": "markdown",
   "metadata": {},
   "source": [
    "## How many years he has run the marathon\n",
    "\n",
    "- look for the runners that run all the three years, or only one or twice."
   ]
  },
  {
   "cell_type": "code",
   "execution_count": 55,
   "metadata": {},
   "outputs": [],
   "source": [
    "runners_2015 = set(results_2015['Name'].unique())\n",
    "runners_2016 = set(results_2016['Name'].unique())\n",
    "runners_2017 = set(results_2017['Name'].unique())"
   ]
  },
  {
   "cell_type": "code",
   "execution_count": 61,
   "metadata": {},
   "outputs": [],
   "source": [
    "df_runner_info = pd.DataFrame()\n",
    "df_runner_info['runners'] = list(set.union(runners_2015,runners_2016, runners_2017))"
   ]
  },
  {
   "cell_type": "code",
   "execution_count": 70,
   "metadata": {},
   "outputs": [
    {
     "ename": "NameError",
     "evalue": "name 'runners_Age' is not defined",
     "output_type": "error",
     "traceback": [
      "\u001b[0;31m---------------------------------------------------------------------------\u001b[0m",
      "\u001b[0;31mNameError\u001b[0m                                 Traceback (most recent call last)",
      "\u001b[0;32m<ipython-input-70-d0065f252579>\u001b[0m in \u001b[0;36m<module>\u001b[0;34m()\u001b[0m\n\u001b[1;32m     20\u001b[0m         \u001b[0mage\u001b[0m \u001b[0;34m=\u001b[0m \u001b[0mrunner_inf\u001b[0m\u001b[0;34m[\u001b[0m\u001b[0;34m'Age'\u001b[0m\u001b[0;34m]\u001b[0m\u001b[0;34m\u001b[0m\u001b[0m\n\u001b[1;32m     21\u001b[0m     \u001b[0mrunners_gender\u001b[0m \u001b[0;34m+=\u001b[0m \u001b[0;34m[\u001b[0m\u001b[0mgender\u001b[0m\u001b[0;34m]\u001b[0m\u001b[0;34m\u001b[0m\u001b[0m\n\u001b[0;32m---> 22\u001b[0;31m     \u001b[0mrunners_Age\u001b[0m \u001b[0;34m+=\u001b[0m \u001b[0;34m[\u001b[0m\u001b[0mage\u001b[0m\u001b[0;34m]\u001b[0m\u001b[0;34m\u001b[0m\u001b[0m\n\u001b[0m\u001b[1;32m     23\u001b[0m     \u001b[0mtimes_appears\u001b[0m \u001b[0;34m+=\u001b[0m  \u001b[0;34m[\u001b[0m\u001b[0mtimes\u001b[0m\u001b[0;34m]\u001b[0m\u001b[0;34m\u001b[0m\u001b[0m\n\u001b[1;32m     24\u001b[0m \u001b[0mdf_runner_info\u001b[0m\u001b[0;34m[\u001b[0m\u001b[0;34m'participations'\u001b[0m\u001b[0;34m]\u001b[0m \u001b[0;34m=\u001b[0m \u001b[0mtimes_appears\u001b[0m\u001b[0;34m\u001b[0m\u001b[0m\n",
      "\u001b[0;31mNameError\u001b[0m: name 'runners_Age' is not defined"
     ]
    }
   ],
   "source": [
    "times_appears = []\n",
    "runners_gender = []\n",
    "runners_age = []\n",
    "for runner in df_runner_info['runners']:\n",
    "    times = 0\n",
    "    if runner in runners_2015:\n",
    "        times +=1\n",
    "        runner_inf = results_2015[results_2015['Name'] == runner]\n",
    "        gender = runner_inf['M/F']\n",
    "        age = runner_inf['Age']\n",
    "    if runner in runners_2016:\n",
    "        times += 1\n",
    "        runner_inf = results_2016[results_2016['Name'] == runner]\n",
    "        gender = runner_inf['M/F']\n",
    "        age = runner_inf['Age']\n",
    "    if runner in runners_2017:\n",
    "        times += 1\n",
    "        runner_inf = results_2017[results_2017['Name'] == runner]\n",
    "        gender = runner_inf['M/F']\n",
    "        age = runner_inf['Age']\n",
    "    runners_gender += [gender]\n",
    "    runners_Age += [age]\n",
    "    times_appears +=  [times]    \n",
    "df_runner_info['participations'] = times_appears"
   ]
  },
  {
   "cell_type": "markdown",
   "metadata": {},
   "source": [
    "## Climate information use API weather underground\n"
   ]
  },
  {
   "cell_type": "code",
   "execution_count": null,
   "metadata": {},
   "outputs": [],
   "source": []
  }
 ],
 "metadata": {
  "kernelspec": {
   "display_name": "Python 3",
   "language": "python",
   "name": "python3"
  },
  "language_info": {
   "codemirror_mode": {
    "name": "ipython",
    "version": 3
   },
   "file_extension": ".py",
   "mimetype": "text/x-python",
   "name": "python",
   "nbconvert_exporter": "python",
   "pygments_lexer": "ipython3",
   "version": "3.6.6"
  }
 },
 "nbformat": 4,
 "nbformat_minor": 2
}
